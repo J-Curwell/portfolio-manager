{
 "cells": [
  {
   "cell_type": "code",
   "execution_count": 1,
   "metadata": {},
   "outputs": [],
   "source": [
    "# Hack to allow imports from directory above. Once the package is fully \n",
    "# functional, remove this and instead just install and import the package\n",
    "import sys\n",
    "sys.path.append(\"..\")\n",
    "\n",
    "import pandas as pd\n",
    "\n",
    "from datetime import datetime\n",
    "from portfolio_manager.portfolio import InvestmentPortfolio, load_portfolio\n",
    "from portfolio_manager.return_calculators import ReturnCalculator, StandardReturnCalculator, TimeWeightedReturnCalculator"
   ]
  },
  {
   "cell_type": "markdown",
   "metadata": {},
   "source": [
    "### Create a portfolio and perform some transactions"
   ]
  },
  {
   "cell_type": "code",
   "execution_count": 2,
   "metadata": {},
   "outputs": [],
   "source": [
    "# Create a portfolio\n",
    "portfolio = InvestmentPortfolio(name='T212')"
   ]
  },
  {
   "cell_type": "code",
   "execution_count": 3,
   "metadata": {},
   "outputs": [],
   "source": [
    "# Make some deposits\n",
    "portfolio.deposit(10)\n",
    "portfolio.deposit(20, portfolio_value_before_deposit=15)"
   ]
  },
  {
   "cell_type": "code",
   "execution_count": 4,
   "metadata": {},
   "outputs": [],
   "source": [
    "# Update the current portfolio value\n",
    "portfolio.update_portfolio_value(75)"
   ]
  },
  {
   "cell_type": "code",
   "execution_count": 5,
   "metadata": {},
   "outputs": [],
   "source": [
    "# Withdraw some funds\n",
    "portfolio.withdraw(12.50, date=datetime(2022, 1, 1))"
   ]
  },
  {
   "cell_type": "code",
   "execution_count": 6,
   "metadata": {},
   "outputs": [
    {
     "data": {
      "text/plain": [
       "[{'date': datetime.datetime(2021, 1, 17, 14, 18, 14, 830597),\n",
       "  'total_deposited': 10,\n",
       "  'current_portfolio_value': 10,\n",
       "  'transaction_type': 'deposit'},\n",
       " {'date': datetime.datetime(2021, 1, 17, 14, 18, 14, 830732),\n",
       "  'total_deposited': 10,\n",
       "  'current_portfolio_value': 15,\n",
       "  'transaction_type': 'update_portfolio_value'},\n",
       " {'date': datetime.datetime(2021, 1, 17, 14, 18, 14, 830732),\n",
       "  'total_deposited': 30,\n",
       "  'current_portfolio_value': 35,\n",
       "  'transaction_type': 'deposit'},\n",
       " {'date': datetime.datetime(2021, 1, 17, 14, 18, 15, 40984),\n",
       "  'total_deposited': 30,\n",
       "  'current_portfolio_value': 75,\n",
       "  'transaction_type': 'update_portfolio_value'},\n",
       " {'date': datetime.datetime(2022, 1, 1, 0, 0),\n",
       "  'total_deposited': 17.5,\n",
       "  'current_portfolio_value': 62.5,\n",
       "  'transaction_type': 'withdrawal'}]"
      ]
     },
     "execution_count": 6,
     "metadata": {},
     "output_type": "execute_result"
    }
   ],
   "source": [
    "# View the portfolio history\n",
    "portfolio.portfolio_history"
   ]
  },
  {
   "cell_type": "code",
   "execution_count": 7,
   "metadata": {},
   "outputs": [
    {
     "data": {
      "text/html": [
       "<div>\n",
       "<style scoped>\n",
       "    .dataframe tbody tr th:only-of-type {\n",
       "        vertical-align: middle;\n",
       "    }\n",
       "\n",
       "    .dataframe tbody tr th {\n",
       "        vertical-align: top;\n",
       "    }\n",
       "\n",
       "    .dataframe thead th {\n",
       "        text-align: right;\n",
       "    }\n",
       "</style>\n",
       "<table border=\"1\" class=\"dataframe\">\n",
       "  <thead>\n",
       "    <tr style=\"text-align: right;\">\n",
       "      <th></th>\n",
       "      <th>date</th>\n",
       "      <th>total_deposited</th>\n",
       "      <th>current_portfolio_value</th>\n",
       "      <th>transaction_type</th>\n",
       "    </tr>\n",
       "  </thead>\n",
       "  <tbody>\n",
       "    <tr>\n",
       "      <th>0</th>\n",
       "      <td>2021-01-17 14:18:14.830597</td>\n",
       "      <td>10.0</td>\n",
       "      <td>10.0</td>\n",
       "      <td>deposit</td>\n",
       "    </tr>\n",
       "    <tr>\n",
       "      <th>1</th>\n",
       "      <td>2021-01-17 14:18:14.830732</td>\n",
       "      <td>10.0</td>\n",
       "      <td>15.0</td>\n",
       "      <td>update_portfolio_value</td>\n",
       "    </tr>\n",
       "    <tr>\n",
       "      <th>2</th>\n",
       "      <td>2021-01-17 14:18:14.830732</td>\n",
       "      <td>30.0</td>\n",
       "      <td>35.0</td>\n",
       "      <td>deposit</td>\n",
       "    </tr>\n",
       "    <tr>\n",
       "      <th>3</th>\n",
       "      <td>2021-01-17 14:18:15.040984</td>\n",
       "      <td>30.0</td>\n",
       "      <td>75.0</td>\n",
       "      <td>update_portfolio_value</td>\n",
       "    </tr>\n",
       "    <tr>\n",
       "      <th>4</th>\n",
       "      <td>2022-01-01 00:00:00.000000</td>\n",
       "      <td>17.5</td>\n",
       "      <td>62.5</td>\n",
       "      <td>withdrawal</td>\n",
       "    </tr>\n",
       "  </tbody>\n",
       "</table>\n",
       "</div>"
      ],
      "text/plain": [
       "                        date  total_deposited  current_portfolio_value  \\\n",
       "0 2021-01-17 14:18:14.830597             10.0                     10.0   \n",
       "1 2021-01-17 14:18:14.830732             10.0                     15.0   \n",
       "2 2021-01-17 14:18:14.830732             30.0                     35.0   \n",
       "3 2021-01-17 14:18:15.040984             30.0                     75.0   \n",
       "4 2022-01-01 00:00:00.000000             17.5                     62.5   \n",
       "\n",
       "         transaction_type  \n",
       "0                 deposit  \n",
       "1  update_portfolio_value  \n",
       "2                 deposit  \n",
       "3  update_portfolio_value  \n",
       "4              withdrawal  "
      ]
     },
     "execution_count": 7,
     "metadata": {},
     "output_type": "execute_result"
    }
   ],
   "source": [
    "# View the portfolio history as a dataframe\n",
    "df = pd.DataFrame(portfolio.portfolio_history, columns=['date', 'total_deposited', 'current_portfolio_value', 'transaction_type'])\n",
    "df"
   ]
  },
  {
   "cell_type": "markdown",
   "metadata": {},
   "source": [
    "### Standard return calculator"
   ]
  },
  {
   "cell_type": "code",
   "execution_count": 8,
   "metadata": {},
   "outputs": [],
   "source": [
    "standard_return_calculator = StandardReturnCalculator()\n",
    "portfolio_return = standard_return_calculator.calculate_return(portfolio, annualised=False)"
   ]
  },
  {
   "cell_type": "code",
   "execution_count": 9,
   "metadata": {},
   "outputs": [
    {
     "data": {
      "text/plain": [
       "257.14285714285717"
      ]
     },
     "execution_count": 9,
     "metadata": {},
     "output_type": "execute_result"
    }
   ],
   "source": [
    "portfolio_return = standard_return_calculator.calculate_return(portfolio, annualised=False)\n",
    "portfolio_return"
   ]
  },
  {
   "cell_type": "code",
   "execution_count": 10,
   "metadata": {},
   "outputs": [
    {
     "data": {
      "text/plain": [
       "280.05689555364313"
      ]
     },
     "execution_count": 10,
     "metadata": {},
     "output_type": "execute_result"
    }
   ],
   "source": [
    "portfolio_return = standard_return_calculator.calculate_return(portfolio, annualised=True)\n",
    "portfolio_return"
   ]
  },
  {
   "cell_type": "markdown",
   "metadata": {},
   "source": [
    "### Time-weighted return calculator"
   ]
  },
  {
   "cell_type": "code",
   "execution_count": 11,
   "metadata": {},
   "outputs": [
    {
     "data": {
      "text/plain": [
       "221.43"
      ]
     },
     "execution_count": 11,
     "metadata": {},
     "output_type": "execute_result"
    }
   ],
   "source": [
    "time_weighted_return_calculator = TimeWeightedReturnCalculator()\n",
    "portfolio_return = time_weighted_return_calculator.calculate_return(portfolio, annualised=False)\n",
    "portfolio_return"
   ]
  },
  {
   "cell_type": "code",
   "execution_count": 12,
   "metadata": {},
   "outputs": [
    {
     "data": {
      "text/plain": [
       "240.3"
      ]
     },
     "execution_count": 12,
     "metadata": {},
     "output_type": "execute_result"
    }
   ],
   "source": [
    "time_weighted_return_calculator = TimeWeightedReturnCalculator()\n",
    "annualised_portfolio_return = time_weighted_return_calculator.calculate_return(portfolio, annualised=True)\n",
    "annualised_portfolio_return"
   ]
  },
  {
   "cell_type": "markdown",
   "metadata": {},
   "source": [
    "### Saving/loading a portfolio"
   ]
  },
  {
   "cell_type": "code",
   "execution_count": 13,
   "metadata": {},
   "outputs": [],
   "source": [
    "portfolio.save_portfolio()"
   ]
  },
  {
   "cell_type": "code",
   "execution_count": 14,
   "metadata": {},
   "outputs": [],
   "source": [
    "p = load_portfolio('T212')"
   ]
  },
  {
   "cell_type": "code",
   "execution_count": 15,
   "metadata": {},
   "outputs": [
    {
     "data": {
      "text/plain": [
       "17.5"
      ]
     },
     "execution_count": 15,
     "metadata": {},
     "output_type": "execute_result"
    }
   ],
   "source": [
    "p.total_deposited"
   ]
  },
  {
   "cell_type": "code",
   "execution_count": 16,
   "metadata": {},
   "outputs": [
    {
     "data": {
      "text/plain": [
       "62.5"
      ]
     },
     "execution_count": 16,
     "metadata": {},
     "output_type": "execute_result"
    }
   ],
   "source": [
    "p.current_portfolio_value"
   ]
  },
  {
   "cell_type": "code",
   "execution_count": 17,
   "metadata": {},
   "outputs": [
    {
     "data": {
      "text/plain": [
       "'T212'"
      ]
     },
     "execution_count": 17,
     "metadata": {},
     "output_type": "execute_result"
    }
   ],
   "source": [
    "p.name"
   ]
  },
  {
   "cell_type": "code",
   "execution_count": 18,
   "metadata": {},
   "outputs": [
    {
     "data": {
      "text/html": [
       "<div>\n",
       "<style scoped>\n",
       "    .dataframe tbody tr th:only-of-type {\n",
       "        vertical-align: middle;\n",
       "    }\n",
       "\n",
       "    .dataframe tbody tr th {\n",
       "        vertical-align: top;\n",
       "    }\n",
       "\n",
       "    .dataframe thead th {\n",
       "        text-align: right;\n",
       "    }\n",
       "</style>\n",
       "<table border=\"1\" class=\"dataframe\">\n",
       "  <thead>\n",
       "    <tr style=\"text-align: right;\">\n",
       "      <th></th>\n",
       "      <th>date</th>\n",
       "      <th>total_deposited</th>\n",
       "      <th>current_portfolio_value</th>\n",
       "      <th>transaction_type</th>\n",
       "    </tr>\n",
       "  </thead>\n",
       "  <tbody>\n",
       "    <tr>\n",
       "      <th>0</th>\n",
       "      <td>2021-01-17 14:18:14.830597</td>\n",
       "      <td>10.0</td>\n",
       "      <td>10.0</td>\n",
       "      <td>deposit</td>\n",
       "    </tr>\n",
       "    <tr>\n",
       "      <th>1</th>\n",
       "      <td>2021-01-17 14:18:14.830732</td>\n",
       "      <td>10.0</td>\n",
       "      <td>15.0</td>\n",
       "      <td>update_portfolio_value</td>\n",
       "    </tr>\n",
       "    <tr>\n",
       "      <th>2</th>\n",
       "      <td>2021-01-17 14:18:14.830732</td>\n",
       "      <td>30.0</td>\n",
       "      <td>35.0</td>\n",
       "      <td>deposit</td>\n",
       "    </tr>\n",
       "    <tr>\n",
       "      <th>3</th>\n",
       "      <td>2021-01-17 14:18:15.040984</td>\n",
       "      <td>30.0</td>\n",
       "      <td>75.0</td>\n",
       "      <td>update_portfolio_value</td>\n",
       "    </tr>\n",
       "    <tr>\n",
       "      <th>4</th>\n",
       "      <td>2022-01-01 00:00:00.000000</td>\n",
       "      <td>17.5</td>\n",
       "      <td>62.5</td>\n",
       "      <td>withdrawal</td>\n",
       "    </tr>\n",
       "  </tbody>\n",
       "</table>\n",
       "</div>"
      ],
      "text/plain": [
       "                        date  total_deposited  current_portfolio_value  \\\n",
       "0 2021-01-17 14:18:14.830597             10.0                     10.0   \n",
       "1 2021-01-17 14:18:14.830732             10.0                     15.0   \n",
       "2 2021-01-17 14:18:14.830732             30.0                     35.0   \n",
       "3 2021-01-17 14:18:15.040984             30.0                     75.0   \n",
       "4 2022-01-01 00:00:00.000000             17.5                     62.5   \n",
       "\n",
       "         transaction_type  \n",
       "0                 deposit  \n",
       "1  update_portfolio_value  \n",
       "2                 deposit  \n",
       "3  update_portfolio_value  \n",
       "4              withdrawal  "
      ]
     },
     "execution_count": 18,
     "metadata": {},
     "output_type": "execute_result"
    }
   ],
   "source": [
    "pd.DataFrame(p.portfolio_history)"
   ]
  },
  {
   "cell_type": "code",
   "execution_count": null,
   "metadata": {},
   "outputs": [],
   "source": []
  },
  {
   "cell_type": "code",
   "execution_count": null,
   "metadata": {},
   "outputs": [],
   "source": []
  }
 ],
 "metadata": {
  "kernelspec": {
   "display_name": "portfolio-manager",
   "language": "python",
   "name": "portfolio-manager"
  },
  "language_info": {
   "codemirror_mode": {
    "name": "ipython",
    "version": 3
   },
   "file_extension": ".py",
   "mimetype": "text/x-python",
   "name": "python",
   "nbconvert_exporter": "python",
   "pygments_lexer": "ipython3",
   "version": "3.7.3"
  }
 },
 "nbformat": 4,
 "nbformat_minor": 4
}
