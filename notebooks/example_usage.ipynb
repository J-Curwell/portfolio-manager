{
 "cells": [
  {
   "cell_type": "code",
   "execution_count": 165,
   "metadata": {},
   "outputs": [],
   "source": [
    "# Hack to allow imports from directory above. Once the package is fully \n",
    "# functional, remove this and instead just install and import the package\n",
    "import sys\n",
    "sys.path.append(\"..\")\n",
    "\n",
    "import pandas as pd\n",
    "\n",
    "from datetime import datetime\n",
    "from portfolio_manager.portfolio import InvestmentPortfolio, load_portfolio\n",
    "from portfolio_manager.return_calculators import (ReturnCalculator,\n",
    "                                                  SimpleReturnCalculator, \n",
    "                                                  TimeWeightedReturnCalculator)"
   ]
  },
  {
   "cell_type": "markdown",
   "metadata": {},
   "source": [
    "### Create a portfolio and perform some transactions"
   ]
  },
  {
   "cell_type": "code",
   "execution_count": 166,
   "metadata": {},
   "outputs": [],
   "source": [
    "# Create a portfolio\n",
    "portfolio = InvestmentPortfolio(name='T212')"
   ]
  },
  {
   "cell_type": "code",
   "execution_count": 167,
   "metadata": {},
   "outputs": [],
   "source": [
    "# Make some deposits\n",
    "portfolio.deposit(10)\n",
    "portfolio.deposit(20, portfolio_value_before_deposit=15)"
   ]
  },
  {
   "cell_type": "code",
   "execution_count": 168,
   "metadata": {},
   "outputs": [],
   "source": [
    "# Update the current portfolio value\n",
    "portfolio.update_portfolio_value(75)"
   ]
  },
  {
   "cell_type": "code",
   "execution_count": 169,
   "metadata": {},
   "outputs": [],
   "source": [
    "# Withdraw some funds\n",
    "portfolio.withdraw(12.50, date=datetime(2022, 1, 1))"
   ]
  },
  {
   "cell_type": "code",
   "execution_count": 170,
   "metadata": {},
   "outputs": [
    {
     "output_type": "execute_result",
     "data": {
      "text/plain": [
       "[{'date': datetime.datetime(2021, 1, 23, 12, 50, 7, 829173),\n",
       "  'total_deposited': 10,\n",
       "  'current_portfolio_value': 10,\n",
       "  'transaction_type': 'deposit'},\n",
       " {'date': datetime.datetime(2021, 1, 23, 12, 50, 7, 829272),\n",
       "  'total_deposited': 10,\n",
       "  'current_portfolio_value': 15,\n",
       "  'transaction_type': 'update_portfolio_value'},\n",
       " {'date': datetime.datetime(2021, 1, 23, 12, 50, 7, 829272),\n",
       "  'total_deposited': 30,\n",
       "  'current_portfolio_value': 35,\n",
       "  'transaction_type': 'deposit'},\n",
       " {'date': datetime.datetime(2021, 1, 23, 12, 50, 7, 915025),\n",
       "  'total_deposited': 30,\n",
       "  'current_portfolio_value': 75,\n",
       "  'transaction_type': 'update_portfolio_value'},\n",
       " {'date': datetime.datetime(2022, 1, 1, 0, 0),\n",
       "  'total_deposited': 17.5,\n",
       "  'current_portfolio_value': 62.5,\n",
       "  'transaction_type': 'withdrawal'}]"
      ]
     },
     "metadata": {},
     "execution_count": 170
    }
   ],
   "source": [
    "# View the portfolio history\n",
    "portfolio.portfolio_history"
   ]
  },
  {
   "cell_type": "code",
   "execution_count": 171,
   "metadata": {},
   "outputs": [
    {
     "output_type": "execute_result",
     "data": {
      "text/plain": [
       "                        date  total_deposited  current_portfolio_value  \\\n",
       "0 2021-01-23 12:50:07.829173             10.0                     10.0   \n",
       "1 2021-01-23 12:50:07.829272             10.0                     15.0   \n",
       "2 2021-01-23 12:50:07.829272             30.0                     35.0   \n",
       "3 2021-01-23 12:50:07.915025             30.0                     75.0   \n",
       "4 2022-01-01 00:00:00.000000             17.5                     62.5   \n",
       "\n",
       "         transaction_type  \n",
       "0                 deposit  \n",
       "1  update_portfolio_value  \n",
       "2                 deposit  \n",
       "3  update_portfolio_value  \n",
       "4              withdrawal  "
      ],
      "text/html": "<div>\n<style scoped>\n    .dataframe tbody tr th:only-of-type {\n        vertical-align: middle;\n    }\n\n    .dataframe tbody tr th {\n        vertical-align: top;\n    }\n\n    .dataframe thead th {\n        text-align: right;\n    }\n</style>\n<table border=\"1\" class=\"dataframe\">\n  <thead>\n    <tr style=\"text-align: right;\">\n      <th></th>\n      <th>date</th>\n      <th>total_deposited</th>\n      <th>current_portfolio_value</th>\n      <th>transaction_type</th>\n    </tr>\n  </thead>\n  <tbody>\n    <tr>\n      <th>0</th>\n      <td>2021-01-23 12:50:07.829173</td>\n      <td>10.0</td>\n      <td>10.0</td>\n      <td>deposit</td>\n    </tr>\n    <tr>\n      <th>1</th>\n      <td>2021-01-23 12:50:07.829272</td>\n      <td>10.0</td>\n      <td>15.0</td>\n      <td>update_portfolio_value</td>\n    </tr>\n    <tr>\n      <th>2</th>\n      <td>2021-01-23 12:50:07.829272</td>\n      <td>30.0</td>\n      <td>35.0</td>\n      <td>deposit</td>\n    </tr>\n    <tr>\n      <th>3</th>\n      <td>2021-01-23 12:50:07.915025</td>\n      <td>30.0</td>\n      <td>75.0</td>\n      <td>update_portfolio_value</td>\n    </tr>\n    <tr>\n      <th>4</th>\n      <td>2022-01-01 00:00:00.000000</td>\n      <td>17.5</td>\n      <td>62.5</td>\n      <td>withdrawal</td>\n    </tr>\n  </tbody>\n</table>\n</div>"
     },
     "metadata": {},
     "execution_count": 171
    }
   ],
   "source": [
    "# View the portfolio history as a dataframe\n",
    "df = pd.DataFrame(portfolio.portfolio_history, columns=['date', 'total_deposited', 'current_portfolio_value', 'transaction_type'])\n",
    "df"
   ]
  },
  {
   "cell_type": "markdown",
   "metadata": {},
   "source": [
    "### Standard return calculator"
   ]
  },
  {
   "cell_type": "code",
   "execution_count": 172,
   "metadata": {},
   "outputs": [],
   "source": [
    "simple_return_calculator = SimpleReturnCalculator()\n",
    "portfolio_return = simple_return_calculator.calculate_return(portfolio, annualised=False)"
   ]
  },
  {
   "cell_type": "code",
   "execution_count": 173,
   "metadata": {},
   "outputs": [
    {
     "output_type": "execute_result",
     "data": {
      "text/plain": [
       "257.14"
      ]
     },
     "metadata": {},
     "execution_count": 173
    }
   ],
   "source": [
    "portfolio_return = simple_return_calculator.calculate_return(portfolio, annualised=False)\n",
    "portfolio_return"
   ]
  },
  {
   "cell_type": "code",
   "execution_count": 174,
   "metadata": {},
   "outputs": [
    {
     "output_type": "execute_result",
     "data": {
      "text/plain": [
       "287.37"
      ]
     },
     "metadata": {},
     "execution_count": 174
    }
   ],
   "source": [
    "portfolio_return = simple_return_calculator.calculate_return(portfolio, annualised=True)\n",
    "portfolio_return"
   ]
  },
  {
   "cell_type": "markdown",
   "metadata": {},
   "source": [
    "### Time-weighted return calculator"
   ]
  },
  {
   "cell_type": "code",
   "execution_count": 175,
   "metadata": {},
   "outputs": [
    {
     "output_type": "execute_result",
     "data": {
      "text/plain": [
       "221.43"
      ]
     },
     "metadata": {},
     "execution_count": 175
    }
   ],
   "source": [
    "time_weighted_return_calculator = TimeWeightedReturnCalculator()\n",
    "portfolio_return = time_weighted_return_calculator.calculate_return(portfolio, annualised=False)\n",
    "portfolio_return"
   ]
  },
  {
   "cell_type": "code",
   "execution_count": 176,
   "metadata": {},
   "outputs": [
    {
     "output_type": "execute_result",
     "data": {
      "text/plain": [
       "246.3"
      ]
     },
     "metadata": {},
     "execution_count": 176
    }
   ],
   "source": [
    "time_weighted_return_calculator = TimeWeightedReturnCalculator()\n",
    "annualised_portfolio_return = time_weighted_return_calculator.calculate_return(portfolio, annualised=True)\n",
    "annualised_portfolio_return"
   ]
  },
  {
   "cell_type": "markdown",
   "metadata": {},
   "source": [
    "### Saving/loading a portfolio"
   ]
  },
  {
   "cell_type": "code",
   "execution_count": 177,
   "metadata": {},
   "outputs": [],
   "source": [
    "portfolio.save_portfolio()"
   ]
  },
  {
   "cell_type": "code",
   "execution_count": 178,
   "metadata": {},
   "outputs": [],
   "source": [
    "p = load_portfolio('T212')"
   ]
  },
  {
   "cell_type": "code",
   "execution_count": 179,
   "metadata": {},
   "outputs": [
    {
     "output_type": "execute_result",
     "data": {
      "text/plain": [
       "17.5"
      ]
     },
     "metadata": {},
     "execution_count": 179
    }
   ],
   "source": [
    "p.total_deposited"
   ]
  },
  {
   "cell_type": "code",
   "execution_count": 180,
   "metadata": {},
   "outputs": [
    {
     "output_type": "execute_result",
     "data": {
      "text/plain": [
       "62.5"
      ]
     },
     "metadata": {},
     "execution_count": 180
    }
   ],
   "source": [
    "p.current_portfolio_value"
   ]
  },
  {
   "cell_type": "code",
   "execution_count": 181,
   "metadata": {},
   "outputs": [
    {
     "output_type": "execute_result",
     "data": {
      "text/plain": [
       "'T212'"
      ]
     },
     "metadata": {},
     "execution_count": 181
    }
   ],
   "source": [
    "p.name"
   ]
  },
  {
   "cell_type": "code",
   "execution_count": 137,
   "metadata": {},
   "outputs": [
    {
     "output_type": "execute_result",
     "data": {
      "text/plain": [
       "                        date  total_deposited  current_portfolio_value  \\\n",
       "0 2021-01-23 12:12:29.230094             10.0                     10.0   \n",
       "1 2021-01-23 12:12:29.230152             10.0                     15.0   \n",
       "2 2021-01-23 12:12:29.230152             30.0                     35.0   \n",
       "3 2021-01-23 12:12:29.306021             30.0                     75.0   \n",
       "4 2022-01-01 00:00:00.000000             17.5                     62.5   \n",
       "\n",
       "         transaction_type  \n",
       "0                 deposit  \n",
       "1  update_portfolio_value  \n",
       "2                 deposit  \n",
       "3  update_portfolio_value  \n",
       "4              withdrawal  "
      ],
      "text/html": "<div>\n<style scoped>\n    .dataframe tbody tr th:only-of-type {\n        vertical-align: middle;\n    }\n\n    .dataframe tbody tr th {\n        vertical-align: top;\n    }\n\n    .dataframe thead th {\n        text-align: right;\n    }\n</style>\n<table border=\"1\" class=\"dataframe\">\n  <thead>\n    <tr style=\"text-align: right;\">\n      <th></th>\n      <th>date</th>\n      <th>total_deposited</th>\n      <th>current_portfolio_value</th>\n      <th>transaction_type</th>\n    </tr>\n  </thead>\n  <tbody>\n    <tr>\n      <th>0</th>\n      <td>2021-01-23 12:12:29.230094</td>\n      <td>10.0</td>\n      <td>10.0</td>\n      <td>deposit</td>\n    </tr>\n    <tr>\n      <th>1</th>\n      <td>2021-01-23 12:12:29.230152</td>\n      <td>10.0</td>\n      <td>15.0</td>\n      <td>update_portfolio_value</td>\n    </tr>\n    <tr>\n      <th>2</th>\n      <td>2021-01-23 12:12:29.230152</td>\n      <td>30.0</td>\n      <td>35.0</td>\n      <td>deposit</td>\n    </tr>\n    <tr>\n      <th>3</th>\n      <td>2021-01-23 12:12:29.306021</td>\n      <td>30.0</td>\n      <td>75.0</td>\n      <td>update_portfolio_value</td>\n    </tr>\n    <tr>\n      <th>4</th>\n      <td>2022-01-01 00:00:00.000000</td>\n      <td>17.5</td>\n      <td>62.5</td>\n      <td>withdrawal</td>\n    </tr>\n  </tbody>\n</table>\n</div>"
     },
     "metadata": {},
     "execution_count": 137
    }
   ],
   "source": [
    "df"
   ]
  },
  {
   "cell_type": "code",
   "execution_count": 138,
   "metadata": {},
   "outputs": [
    {
     "output_type": "execute_result",
     "data": {
      "text/plain": [
       "                        date  total_deposited  current_portfolio_value  \\\n",
       "0 2021-01-23 12:12:29.230094             10.0                     10.0   \n",
       "2 2021-01-23 12:12:29.230152             30.0                     35.0   \n",
       "4 2022-01-01 00:00:00.000000             17.5                     62.5   \n",
       "\n",
       "  transaction_type  \n",
       "0          deposit  \n",
       "2          deposit  \n",
       "4       withdrawal  "
      ],
      "text/html": "<div>\n<style scoped>\n    .dataframe tbody tr th:only-of-type {\n        vertical-align: middle;\n    }\n\n    .dataframe tbody tr th {\n        vertical-align: top;\n    }\n\n    .dataframe thead th {\n        text-align: right;\n    }\n</style>\n<table border=\"1\" class=\"dataframe\">\n  <thead>\n    <tr style=\"text-align: right;\">\n      <th></th>\n      <th>date</th>\n      <th>total_deposited</th>\n      <th>current_portfolio_value</th>\n      <th>transaction_type</th>\n    </tr>\n  </thead>\n  <tbody>\n    <tr>\n      <th>0</th>\n      <td>2021-01-23 12:12:29.230094</td>\n      <td>10.0</td>\n      <td>10.0</td>\n      <td>deposit</td>\n    </tr>\n    <tr>\n      <th>2</th>\n      <td>2021-01-23 12:12:29.230152</td>\n      <td>30.0</td>\n      <td>35.0</td>\n      <td>deposit</td>\n    </tr>\n    <tr>\n      <th>4</th>\n      <td>2022-01-01 00:00:00.000000</td>\n      <td>17.5</td>\n      <td>62.5</td>\n      <td>withdrawal</td>\n    </tr>\n  </tbody>\n</table>\n</div>"
     },
     "metadata": {},
     "execution_count": 138
    }
   ],
   "source": [
    "dandw = df.loc[df['transaction_type'].isin(['deposit','withdrawal'])]\n",
    "dandw"
   ]
  },
  {
   "cell_type": "code",
   "execution_count": 156,
   "metadata": {},
   "outputs": [
    {
     "output_type": "execute_result",
     "data": {
      "text/plain": [
       "   total_deposited\n",
       "0              NaN\n",
       "2             20.0\n",
       "4            -12.5"
      ],
      "text/html": "<div>\n<style scoped>\n    .dataframe tbody tr th:only-of-type {\n        vertical-align: middle;\n    }\n\n    .dataframe tbody tr th {\n        vertical-align: top;\n    }\n\n    .dataframe thead th {\n        text-align: right;\n    }\n</style>\n<table border=\"1\" class=\"dataframe\">\n  <thead>\n    <tr style=\"text-align: right;\">\n      <th></th>\n      <th>total_deposited</th>\n    </tr>\n  </thead>\n  <tbody>\n    <tr>\n      <th>0</th>\n      <td>NaN</td>\n    </tr>\n    <tr>\n      <th>2</th>\n      <td>20.0</td>\n    </tr>\n    <tr>\n      <th>4</th>\n      <td>-12.5</td>\n    </tr>\n  </tbody>\n</table>\n</div>"
     },
     "metadata": {},
     "execution_count": 156
    }
   ],
   "source": [
    "total_deposited = df.loc[:, df.columns.intersection(['total_deposited'])].diff()\n",
    "total_deposited"
   ]
  },
  {
   "cell_type": "code",
   "execution_count": 140,
   "metadata": {},
   "outputs": [
    {
     "output_type": "execute_result",
     "data": {
      "text/plain": [
       "   total_deposited\n",
       "0              NaN\n",
       "2             20.0\n",
       "4            -12.5"
      ],
      "text/html": "<div>\n<style scoped>\n    .dataframe tbody tr th:only-of-type {\n        vertical-align: middle;\n    }\n\n    .dataframe tbody tr th {\n        vertical-align: top;\n    }\n\n    .dataframe thead th {\n        text-align: right;\n    }\n</style>\n<table border=\"1\" class=\"dataframe\">\n  <thead>\n    <tr style=\"text-align: right;\">\n      <th></th>\n      <th>total_deposited</th>\n    </tr>\n  </thead>\n  <tbody>\n    <tr>\n      <th>0</th>\n      <td>NaN</td>\n    </tr>\n    <tr>\n      <th>2</th>\n      <td>20.0</td>\n    </tr>\n    <tr>\n      <th>4</th>\n      <td>-12.5</td>\n    </tr>\n  </tbody>\n</table>\n</div>"
     },
     "metadata": {},
     "execution_count": 140
    }
   ],
   "source": [
    "diff_df = total_deposited.diff()\n",
    "diff_df"
   ]
  },
  {
   "cell_type": "code",
   "execution_count": 142,
   "metadata": {},
   "outputs": [
    {
     "output_type": "execute_result",
     "data": {
      "text/plain": [
       "[nan, 20.0, -12.5]"
      ]
     },
     "metadata": {},
     "execution_count": 142
    }
   ],
   "source": [
    "diff_list = diff_df['total_deposited'].tolist()\n",
    "diff_list\n"
   ]
  },
  {
   "cell_type": "code",
   "execution_count": 192,
   "metadata": {},
   "outputs": [
    {
     "output_type": "execute_result",
     "data": {
      "text/plain": [
       "[-10.0, -20.0, 12.5]"
      ]
     },
     "metadata": {},
     "execution_count": 192
    }
   ],
   "source": [
    "import numpy\n",
    "mwr_arr = []\n",
    "mwr_arr.append(-df['total_deposited'][0])\n",
    "mwr_arr.extend(numpy.negative(diff_list[1:]))\n",
    "mwr_arr"
   ]
  },
  {
   "cell_type": "code",
   "execution_count": 194,
   "metadata": {},
   "outputs": [
    {
     "output_type": "execute_result",
     "data": {
      "text/plain": [
       "[-10.0, -20.0, 12.5, 62.5]"
      ]
     },
     "metadata": {},
     "execution_count": 194
    }
   ],
   "source": [
    "mwr_arr\n",
    "mwr_arr.append(df['current_portfolio_value'].iloc[-1])\n",
    "mwr_arr"
   ]
  },
  {
   "cell_type": "code",
   "execution_count": 195,
   "metadata": {},
   "outputs": [
    {
     "output_type": "execute_result",
     "data": {
      "text/plain": [
       "0.5214775427188729"
      ]
     },
     "metadata": {},
     "execution_count": 195
    }
   ],
   "source": [
    "numpy.irr(mwr_arr)"
   ]
  },
  {
   "cell_type": "code",
   "execution_count": null,
   "metadata": {},
   "outputs": [],
   "source": []
  }
 ],
 "metadata": {
  "kernelspec": {
   "name": "python3",
   "display_name": "Python 3",
   "language": "python"
  },
  "language_info": {
   "codemirror_mode": {
    "name": "ipython",
    "version": 3
   },
   "file_extension": ".py",
   "mimetype": "text/x-python",
   "name": "python",
   "nbconvert_exporter": "python",
   "pygments_lexer": "ipython3",
   "version": "3.7.3-final"
  }
 },
 "nbformat": 4,
 "nbformat_minor": 4
}