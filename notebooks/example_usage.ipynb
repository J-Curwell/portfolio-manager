{
 "cells": [
  {
   "cell_type": "code",
   "execution_count": 1,
   "metadata": {},
   "outputs": [],
   "source": [
    "# Hack to allow imports from directory above. Once the package is fully \n",
    "# functional, remove this and instead just install and import the package\n",
    "import sys\n",
    "sys.path.append(\"..\")\n",
    "\n",
    "import pandas as pd\n",
    "\n",
    "from portfolio_manager.portfolio import InvestmentPortfolio"
   ]
  },
  {
   "cell_type": "code",
   "execution_count": 6,
   "metadata": {},
   "outputs": [],
   "source": [
    "# Create a portfolio\n",
    "portfolio = InvestmentPortfolio()"
   ]
  },
  {
   "cell_type": "code",
   "execution_count": 7,
   "metadata": {},
   "outputs": [],
   "source": [
    "# Make some deposits\n",
    "portfolio.deposit(10)\n",
    "portfolio.deposit(20)"
   ]
  },
  {
   "cell_type": "code",
   "execution_count": 8,
   "metadata": {},
   "outputs": [],
   "source": [
    "# Update the current portfolio value\n",
    "portfolio.update_portfolio_value(75)"
   ]
  },
  {
   "cell_type": "code",
   "execution_count": 9,
   "metadata": {},
   "outputs": [],
   "source": [
    "# Withdraw some funds\n",
    "portfolio.withdraw(12.50)"
   ]
  },
  {
   "cell_type": "code",
   "execution_count": 10,
   "metadata": {},
   "outputs": [
    {
     "data": {
      "text/plain": [
       "[{'date': datetime.datetime(2021, 1, 2, 20, 31, 44, 890007),\n",
       "  'total_deposited': 10,\n",
       "  'current_portfolio_value': 10},\n",
       " {'date': datetime.datetime(2021, 1, 2, 20, 31, 44, 890133),\n",
       "  'total_deposited': 30,\n",
       "  'current_portfolio_value': 30},\n",
       " {'date': datetime.datetime(2021, 1, 2, 20, 31, 45, 382087),\n",
       "  'total_deposited': 30,\n",
       "  'current_portfolio_value': 75},\n",
       " {'date': datetime.datetime(2021, 1, 2, 20, 31, 46, 284052),\n",
       "  'total_deposited': 17.5,\n",
       "  'current_portfolio_value': 62.5}]"
      ]
     },
     "execution_count": 10,
     "metadata": {},
     "output_type": "execute_result"
    }
   ],
   "source": [
    "# View the portfolio history\n",
    "portfolio.portfolio_history"
   ]
  },
  {
   "cell_type": "code",
   "execution_count": 11,
   "metadata": {},
   "outputs": [
    {
     "data": {
      "text/html": [
       "<div>\n",
       "<style scoped>\n",
       "    .dataframe tbody tr th:only-of-type {\n",
       "        vertical-align: middle;\n",
       "    }\n",
       "\n",
       "    .dataframe tbody tr th {\n",
       "        vertical-align: top;\n",
       "    }\n",
       "\n",
       "    .dataframe thead th {\n",
       "        text-align: right;\n",
       "    }\n",
       "</style>\n",
       "<table border=\"1\" class=\"dataframe\">\n",
       "  <thead>\n",
       "    <tr style=\"text-align: right;\">\n",
       "      <th></th>\n",
       "      <th>date</th>\n",
       "      <th>total_deposited</th>\n",
       "      <th>current_portfolio_value</th>\n",
       "    </tr>\n",
       "  </thead>\n",
       "  <tbody>\n",
       "    <tr>\n",
       "      <th>0</th>\n",
       "      <td>2021-01-02 20:31:44.890007</td>\n",
       "      <td>10.0</td>\n",
       "      <td>10.0</td>\n",
       "    </tr>\n",
       "    <tr>\n",
       "      <th>1</th>\n",
       "      <td>2021-01-02 20:31:44.890133</td>\n",
       "      <td>30.0</td>\n",
       "      <td>30.0</td>\n",
       "    </tr>\n",
       "    <tr>\n",
       "      <th>2</th>\n",
       "      <td>2021-01-02 20:31:45.382087</td>\n",
       "      <td>30.0</td>\n",
       "      <td>75.0</td>\n",
       "    </tr>\n",
       "    <tr>\n",
       "      <th>3</th>\n",
       "      <td>2021-01-02 20:31:46.284052</td>\n",
       "      <td>17.5</td>\n",
       "      <td>62.5</td>\n",
       "    </tr>\n",
       "  </tbody>\n",
       "</table>\n",
       "</div>"
      ],
      "text/plain": [
       "                        date  total_deposited  current_portfolio_value\n",
       "0 2021-01-02 20:31:44.890007             10.0                     10.0\n",
       "1 2021-01-02 20:31:44.890133             30.0                     30.0\n",
       "2 2021-01-02 20:31:45.382087             30.0                     75.0\n",
       "3 2021-01-02 20:31:46.284052             17.5                     62.5"
      ]
     },
     "execution_count": 11,
     "metadata": {},
     "output_type": "execute_result"
    }
   ],
   "source": [
    "# View the portfolio history as a dataframe\n",
    "df = pd.DataFrame(portfolio.portfolio_history, columns=['date', 'total_deposited', 'current_portfolio_value'])\n",
    "df"
   ]
  },
  {
   "cell_type": "code",
   "execution_count": null,
   "metadata": {},
   "outputs": [],
   "source": []
  }
 ],
 "metadata": {
  "kernelspec": {
   "display_name": "Python 3",
   "language": "python",
   "name": "python3"
  },
  "language_info": {
   "codemirror_mode": {
    "name": "ipython",
    "version": 3
   },
   "file_extension": ".py",
   "mimetype": "text/x-python",
   "name": "python",
   "nbconvert_exporter": "python",
   "pygments_lexer": "ipython3",
   "version": "3.7.3"
  }
 },
 "nbformat": 4,
 "nbformat_minor": 4
}
