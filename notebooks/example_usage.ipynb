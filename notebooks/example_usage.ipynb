{
 "cells": [
  {
   "cell_type": "code",
   "execution_count": 1,
   "metadata": {},
   "outputs": [],
   "source": [
    "# Hack to allow imports from directory above. Once the package is fully \n",
    "# functional, remove this and instead just install and import the package\n",
    "import sys\n",
    "sys.path.append(\"..\")\n",
    "\n",
    "import pandas as pd\n",
    "from portfolio_manager.portfolio import InvestmentPortfolio\n",
    "from portfolio_manager.return_calculators import StandardReturnCalculator, TimeWeightedReturnCalculator"
   ]
  },
  {
   "cell_type": "code",
   "execution_count": 2,
   "metadata": {},
   "outputs": [],
   "source": [
    "# Create a portfolio\n",
    "portfolio = InvestmentPortfolio(name='T212')"
   ]
  },
  {
   "cell_type": "code",
   "execution_count": 3,
   "metadata": {},
   "outputs": [],
   "source": [
    "# Make some deposits\n",
    "portfolio.deposit(10)\n",
    "portfolio.deposit(20)"
   ]
  },
  {
   "cell_type": "code",
   "execution_count": 4,
   "metadata": {},
   "outputs": [],
   "source": [
    "# Update the current portfolio value\n",
    "portfolio.update_portfolio_value(75)"
   ]
  },
  {
   "cell_type": "code",
   "execution_count": 5,
   "metadata": {},
   "outputs": [],
   "source": [
    "# Withdraw some funds\n",
    "portfolio.withdraw(12.50)"
   ]
  },
  {
   "cell_type": "code",
   "execution_count": 6,
   "metadata": {},
   "outputs": [
    {
     "output_type": "execute_result",
     "data": {
      "text/plain": [
       "[{'date': datetime.datetime(2021, 1, 9, 13, 50, 53, 373977),\n",
       "  'total_deposited': 10,\n",
       "  'current_portfolio_value': 10,\n",
       "  'transaction_type': 'deposit'},\n",
       " {'date': datetime.datetime(2021, 1, 9, 13, 50, 53, 374047),\n",
       "  'total_deposited': 30,\n",
       "  'current_portfolio_value': 30,\n",
       "  'transaction_type': 'deposit'},\n",
       " {'date': datetime.datetime(2021, 1, 9, 13, 50, 53, 474463),\n",
       "  'total_deposited': 30,\n",
       "  'current_portfolio_value': 75,\n",
       "  'transaction_type': 'update_portfolio_value'},\n",
       " {'date': datetime.datetime(2021, 1, 9, 13, 50, 53, 555545),\n",
       "  'total_deposited': 17.5,\n",
       "  'current_portfolio_value': 62.5,\n",
       "  'transaction_type': 'withdrawal'}]"
      ]
     },
     "metadata": {},
     "execution_count": 6
    }
   ],
   "source": [
    "# View the portfolio history\n",
    "portfolio.portfolio_history"
   ]
  },
  {
   "cell_type": "code",
   "execution_count": 7,
   "metadata": {},
   "outputs": [
    {
     "output_type": "execute_result",
     "data": {
      "text/plain": [
       "                        date  total_deposited  current_portfolio_value  \\\n",
       "0 2021-01-09 13:50:53.373977             10.0                     10.0   \n",
       "1 2021-01-09 13:50:53.374047             30.0                     30.0   \n",
       "2 2021-01-09 13:50:53.474463             30.0                     75.0   \n",
       "3 2021-01-09 13:50:53.555545             17.5                     62.5   \n",
       "\n",
       "         transaction_type  \n",
       "0                 deposit  \n",
       "1                 deposit  \n",
       "2  update_portfolio_value  \n",
       "3              withdrawal  "
      ],
      "text/html": "<div>\n<style scoped>\n    .dataframe tbody tr th:only-of-type {\n        vertical-align: middle;\n    }\n\n    .dataframe tbody tr th {\n        vertical-align: top;\n    }\n\n    .dataframe thead th {\n        text-align: right;\n    }\n</style>\n<table border=\"1\" class=\"dataframe\">\n  <thead>\n    <tr style=\"text-align: right;\">\n      <th></th>\n      <th>date</th>\n      <th>total_deposited</th>\n      <th>current_portfolio_value</th>\n      <th>transaction_type</th>\n    </tr>\n  </thead>\n  <tbody>\n    <tr>\n      <th>0</th>\n      <td>2021-01-09 13:50:53.373977</td>\n      <td>10.0</td>\n      <td>10.0</td>\n      <td>deposit</td>\n    </tr>\n    <tr>\n      <th>1</th>\n      <td>2021-01-09 13:50:53.374047</td>\n      <td>30.0</td>\n      <td>30.0</td>\n      <td>deposit</td>\n    </tr>\n    <tr>\n      <th>2</th>\n      <td>2021-01-09 13:50:53.474463</td>\n      <td>30.0</td>\n      <td>75.0</td>\n      <td>update_portfolio_value</td>\n    </tr>\n    <tr>\n      <th>3</th>\n      <td>2021-01-09 13:50:53.555545</td>\n      <td>17.5</td>\n      <td>62.5</td>\n      <td>withdrawal</td>\n    </tr>\n  </tbody>\n</table>\n</div>"
     },
     "metadata": {},
     "execution_count": 7
    }
   ],
   "source": [
    "# View the portfolio history as a dataframe\n",
    "df = pd.DataFrame(portfolio.portfolio_history, columns=['date', 'total_deposited', 'current_portfolio_value', 'transaction_type'])\n",
    "df"
   ]
  },
  {
   "cell_type": "code",
   "execution_count": 8,
   "metadata": {},
   "outputs": [],
   "source": [
    "standard_return_calculator = StandardReturnCalculator()\n",
    "portfolio_return = standard_return_calculator.calculate_return(portfolio, annualised=False)"
   ]
  },
  {
   "cell_type": "code",
   "execution_count": 9,
   "metadata": {},
   "outputs": [
    {
     "output_type": "execute_result",
     "data": {
      "text/plain": [
       "257.14285714285717"
      ]
     },
     "metadata": {},
     "execution_count": 9
    }
   ],
   "source": [
    "portfolio_return = standard_return_calculator.calculate_return(portfolio, annualised=False)\n",
    "portfolio_return"
   ]
  },
  {
   "cell_type": "code",
   "execution_count": 10,
   "metadata": {},
   "outputs": [
    {
     "output_type": "execute_result",
     "data": {
      "text/plain": [
       "52.85535436643993"
      ]
     },
     "metadata": {},
     "execution_count": 10
    }
   ],
   "source": [
    "portfolio_return = standard_return_calculator.calculate_return(portfolio, annualised=True)\n",
    "portfolio_return"
   ]
  },
  {
   "cell_type": "code",
   "execution_count": null,
   "metadata": {},
   "outputs": [],
   "source": []
  },
  {
   "cell_type": "code",
   "execution_count": 11,
   "metadata": {},
   "outputs": [],
   "source": [
    "portfolio.save_portfolio()"
   ]
  },
  {
   "cell_type": "code",
   "execution_count": 12,
   "metadata": {},
   "outputs": [],
   "source": [
    "p = InvestmentPortfolio.load_portfolio('T212.pkl')"
   ]
  },
  {
   "cell_type": "code",
   "execution_count": 13,
   "metadata": {},
   "outputs": [
    {
     "output_type": "execute_result",
     "data": {
      "text/plain": [
       "17.5"
      ]
     },
     "metadata": {},
     "execution_count": 13
    }
   ],
   "source": [
    "p.total_deposited"
   ]
  },
  {
   "cell_type": "code",
   "execution_count": 14,
   "metadata": {},
   "outputs": [
    {
     "output_type": "execute_result",
     "data": {
      "text/plain": [
       "249.99999999999991"
      ]
     },
     "metadata": {},
     "execution_count": 14
    }
   ],
   "source": [
    "time_weighted_return_calculator = TimeWeightedReturnCalculator()\n",
    "portfolio_return = time_weighted_return_calculator.calculate_return(portfolio, annualised=True)\n",
    "portfolio_return"
   ]
  },
  {
   "cell_type": "code",
   "execution_count": null,
   "metadata": {},
   "outputs": [],
   "source": []
  }
 ],
 "metadata": {
  "kernelspec": {
   "display_name": "Python 3",
   "language": "python",
   "name": "python3"
  },
  "language_info": {
   "codemirror_mode": {
    "name": "ipython",
    "version": 3
   },
   "file_extension": ".py",
   "mimetype": "text/x-python",
   "name": "python",
   "nbconvert_exporter": "python",
   "pygments_lexer": "ipython3",
   "version": "3.7.3-final"
  }
 },
 "nbformat": 4,
 "nbformat_minor": 4
}